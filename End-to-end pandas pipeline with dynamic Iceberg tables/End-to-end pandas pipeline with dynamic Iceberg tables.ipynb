{
  "metadata": {
    "kernelspec": {
      "display_name": "Streamlit Notebook",
      "name": "streamlit"
    }
  },
  "nbformat_minor": 5,
  "nbformat": 4,
  "cells": [
    {
      "cell_type": "markdown",
      "id": "cbe4615b-a576-4001-a27b-2930a9984eb1",
      "metadata": {
        "name": "cell1",
        "collapsed": false
      },
      "source": "In this example, we will be accessing data from a managed Iceberg table with Tasty Bytes restaurant reviews stored in a data lake. We will write feature engineering code in Notebooks using pandas on Snowflake. pandas on Snowflake offers familiar API and syntax for data cleaning and transformation that is more flexible than convenient than SQL for programmatic specification.\n\nDemo Overview:\n1. **Connect Iceberg table with pandas on Snowflake**: Read Iceberg table from Snowflake via `read_snowflake`\n2. **Data Profiling and Cleaning**: Perform exploratory analysis to profile data characteristics and clean data\n3. **Feature Engineering**: Perform feature engineering tasks with pandas on Snowflake, including using Cortex LLM functions\n4. **Save as Dynamic Iceberg Table**: Save resulting table with new feature as a Dynamic Iceberg Table \n5. **Automatic Pipeline Refresh with Dynamic Iceberg Table**: Changes to source iceberg table automatically refreshes the dynamic iceberg table.\n\nRequired packages: `modin`, `snowflake-ml-python` "
    },
    {
      "cell_type": "markdown",
      "id": "7153eae0-ab1f-4b39-b66b-2ad5567bc262",
      "metadata": {
        "name": "cell2",
        "collapsed": false
      },
      "source": "## Connect Iceberg table with pandas on Snowflake\n\nWe have a Iceberg table `RESTAURANT_REVIEWS_ICEBERG` that we'll be working with. You can learn more about how you can set up your Iceberg table in [the documentation](https://docs.snowflake.com/en/user-guide/tutorials/create-your-first-iceberg-table).\n\nNow let's use [pandas on Snowflake](https://docs.snowflake.com/developer-guide/snowpark/python/pandas-on-snowflake) to connect to the iceberg table as a dataframe we can work with."
    },
    {
      "cell_type": "code",
      "id": "3775908f-ca36-4846-8f38-5adca39217f2",
      "metadata": {
        "language": "python",
        "name": "cell3"
      },
      "source": "import snowflake.snowpark.modin.plugin\nimport modin.pandas as pd\n\nfrom snowflake.snowpark.session import Session\nsession = get_active_session()",
      "execution_count": null,
      "outputs": []
    },
    {
      "cell_type": "code",
      "id": "8d50cbf4-0c8d-4950-86cb-114990437ac9",
      "metadata": {
        "language": "python",
        "name": "cell4",
        "codeCollapsed": false
      },
      "source": "df = pd.read_snowflake(\"RESTAURANT_REVIEWS_ICEBERG\")",
      "execution_count": null,
      "outputs": []
    },
    {
      "cell_type": "markdown",
      "id": "74389159-44f9-4d52-8566-022300919242",
      "metadata": {
        "name": "cell5",
        "collapsed": false
      },
      "source": "## Data Profiling and Cleaning\nLet's take a look at our data and overall statistics."
    },
    {
      "cell_type": "code",
      "id": "f98e6657-61cb-4f5a-a6ba-061a7120e8b2",
      "metadata": {
        "language": "python",
        "name": "cell6",
        "codeCollapsed": false
      },
      "outputs": [],
      "source": "df",
      "execution_count": null
    },
    {
      "cell_type": "code",
      "id": "f46036d1-dbe0-48bf-b6c6-788c1c670bb3",
      "metadata": {
        "language": "python",
        "name": "cell7",
        "collapsed": false,
        "codeCollapsed": false
      },
      "outputs": [],
      "source": "df.info()",
      "execution_count": null
    },
    {
      "cell_type": "code",
      "id": "20493b5a-d4fb-4eec-bbcb-d6f69b9e4ec3",
      "metadata": {
        "language": "python",
        "name": "cell8",
        "collapsed": false,
        "codeCollapsed": false
      },
      "outputs": [],
      "source": "df = df.drop(\"SOURCE\", axis=1)\ndf.head()",
      "execution_count": null
    },
    {
      "cell_type": "markdown",
      "id": "a15484e1-d550-4f00-9428-27ec429297bd",
      "metadata": {
        "name": "cell9",
        "collapsed": false
      },
      "source": "Let's look at the number of records for `PRIMARY_CITY`."
    },
    {
      "cell_type": "code",
      "id": "4df483c4-a6e4-4d94-a088-9ed69f58b72a",
      "metadata": {
        "language": "python",
        "name": "cell10",
        "codeCollapsed": false
      },
      "outputs": [],
      "source": "df[\"PRIMARY_CITY\"].value_counts()",
      "execution_count": null
    },
    {
      "cell_type": "markdown",
      "id": "fb26af8d-2720-42b7-afd5-69b2fc974164",
      "metadata": {
        "name": "cell11",
        "collapsed": false
      },
      "source": "## Feature Engineering\nTasty Bytes is a global food truck operation. You can see that there are many cities across the globe that is listed. To simplify our analysis of geographical impact on restaurant reviews, we want to map cities to a smaller set of geographical regions. To do this, we create a new dataframe with the unique cities values from the source dataframe."
    },
    {
      "cell_type": "code",
      "id": "c695373e-ac74-4b62-a1f1-08206cbd5c81",
      "metadata": {
        "language": "python",
        "name": "cell12",
        "codeCollapsed": false
      },
      "source": "city_mapping = pd.DataFrame(df[\"PRIMARY_CITY\"].unique(),columns=[\"PRIMARY_CITY\"])\ncity_mapping",
      "execution_count": null,
      "outputs": []
    },
    {
      "cell_type": "markdown",
      "id": "3ab6eb33-e442-4846-92e5-e2c4418bf2e6",
      "metadata": {
        "name": "cell13",
        "collapsed": false
      },
      "source": "Next, to clean up the data further, we want to to classify cities into a smaller number of regions. We can do that using Snowflake's Cortex LLM functions [CLASSIFY_TEXT](https://docs.snowflake.com/en/sql-reference/functions/classify_text-snowflake-cortex). You can use Snowflake Cortex LLM functions via the Snowpark pandas apply function, see examples [here](https://docs.snowflake.com/en/developer-guide/snowpark/python/pandas-on-snowflake#using-snowflake-cortex-llm-functions-with-snowpark-pandas)."
    },
    {
      "cell_type": "code",
      "id": "2d55437a-9615-4164-902c-ea4ffb8f6b10",
      "metadata": {
        "language": "python",
        "name": "cell14"
      },
      "outputs": [],
      "source": "from snowflake.cortex import ClassifyText\ncity_mapping[\"REGION\"] = city_mapping.apply(ClassifyText, categories=[\"Asia\",\"Europe\",\"Americas\",\"Africa\"])",
      "execution_count": null
    },
    {
      "cell_type": "code",
      "id": "2f5501e2-aac2-4a8c-a4a8-7543dc81e87b",
      "metadata": {
        "language": "python",
        "name": "cell15",
        "codeCollapsed": false
      },
      "outputs": [],
      "source": "# Extract Region label from the mapping\ncity_mapping[\"REGION_LABEL\"] = city_mapping[\"REGION\"].apply(lambda x: x.get('label'))\ncity_mapping[['PRIMARY_CITY','REGION_LABEL']]",
      "execution_count": null
    },
    {
      "cell_type": "code",
      "id": "3165f932-08ce-491e-8c6b-ddeb2d788577",
      "metadata": {
        "language": "python",
        "name": "cell16",
        "codeCollapsed": false
      },
      "outputs": [],
      "source": "# Create a mapping dictionary\ncity_to_region = dict(zip(city_mapping['PRIMARY_CITY'], city_mapping['REGION_LABEL']))",
      "execution_count": null
    },
    {
      "cell_type": "code",
      "id": "856cf31d-bb65-4687-8641-8817d8d00c8d",
      "metadata": {
        "language": "python",
        "name": "cell17",
        "codeCollapsed": false
      },
      "outputs": [],
      "source": "# Map the REGION_LABEL into the original DataFrame\nfeature_df = df\nfeature_df['REGION'] = feature_df['PRIMARY_CITY'].map(city_to_region)",
      "execution_count": null
    },
    {
      "cell_type": "code",
      "id": "84c630a0-bb71-47a3-b17d-3e370340e941",
      "metadata": {
        "language": "python",
        "name": "cell18",
        "collapsed": false,
        "codeCollapsed": false
      },
      "outputs": [],
      "source": "import altair as alt\n\n# Convert the value_counts to a DataFrame for Altair\nregion_counts = feature_df['REGION'].value_counts().reset_index()\nregion_counts.columns = ['REGION', 'COUNT']\n\n# Create the horizontal bar chart with text labels\nchart = alt.Chart(region_counts).mark_bar().encode(\n    x=alt.X('COUNT:Q', title='Number of Reviews'),\n    y=alt.Y('REGION:N', title='Region', sort='-x'),\n    color=alt.Color('REGION:N', legend=None)\n).properties(\n    title='Number of Reviews by Region',\n    width=600,\n    height=400\n)\n\nchart",
      "execution_count": null
    },
    {
      "cell_type": "markdown",
      "id": "c15e1768-6f49-46f9-8d08-69a3fee0476d",
      "metadata": {
        "name": "cell19",
        "collapsed": false
      },
      "source": "We can see from the dataframe preview of `feature_df` that we now have a new feature `REGION` in our resulting dataframe."
    },
    {
      "cell_type": "code",
      "id": "d933fd96-67c6-4535-bc7c-bc83b79b929c",
      "metadata": {
        "language": "python",
        "name": "cell20"
      },
      "outputs": [],
      "source": "feature_df.head()",
      "execution_count": null
    },
    {
      "cell_type": "markdown",
      "id": "1759d2e5-c071-4fb8-bb13-eb9888a9966c",
      "metadata": {
        "name": "cell21",
        "collapsed": false
      },
      "source": "## Save as Iceberg Table\n\nWe want to save the resulting table with new feature as a Iceberg Table. Here is our [iceberg configuration](https://docs.snowflake.com/en/sql-reference/sql/create-iceberg-table-snowflake):"
    },
    {
      "cell_type": "code",
      "id": "09a0b9b7-3d6b-435b-9a62-2fb7d4f835a8",
      "metadata": {
        "language": "python",
        "name": "cell22",
        "codeCollapsed": false
      },
      "outputs": [],
      "source": "iceberg_config = {\n    \"external_volume\": \"ICEBERG_EXTERNAL_VOLUME\",\n    \"catalog\": \"SNOWFLAKE\",\n    \"base_location\": \"RESTAURANT_REVIEWS_ICEBERG/\"\n}",
      "execution_count": null
    },
    {
      "cell_type": "markdown",
      "id": "83f7d338-4238-49db-aec6-1b4e8b77cbbe",
      "metadata": {
        "name": "cell23",
        "collapsed": false
      },
      "source": "Now we can save this back as an Iceberg table using Snowpark pandas's `to_iceberg` operation: "
    },
    {
      "cell_type": "code",
      "id": "9eca247f-14f2-4402-9665-4a346d890f10",
      "metadata": {
        "language": "python",
        "name": "cell24",
        "codeCollapsed": false
      },
      "outputs": [],
      "source": "feature_df.to_iceberg(\"RESTAURANT_REVIEWS_FEATURES_ICEBERG\", iceberg_config = iceberg_config)",
      "execution_count": null
    },
    {
      "cell_type": "markdown",
      "id": "512755e8-8111-4756-b68b-338c6f3da68e",
      "metadata": {
        "name": "cell25",
        "collapsed": false
      },
      "source": "## Save as dynamic Apache Iceberg tables\n\nWhat if my source data is changing as new restaurant reviews stream in regularly and we want to make sure that our downstream tables are refreshed as new data come in?\nTo achieve this, we can save the table as a [dynamic iceberg table](https://docs.snowflake.com/en/user-guide/dynamic-tables-create-iceberg). Automated data transformation with dynamic Iceberg tables uses declarative SQL to define the desired end state without managing intermediary steps. Snowflake handles orchestration, scheduling, and refreshing data transformations based on your specified data freshness targets.\n\nFor the purpose of the demo here, we specify our data freshness target lag as one minute. Note that I specified `refresh_mode=\"incremental\"` so that Snowflake analyzes the query and calculates and merges back the changes since the last refresh, to avoid a refresh on the full table unless necessary.\n"
    },
    {
      "cell_type": "code",
      "id": "7f3e2da9-8cfe-448e-8847-a8a5c464cdb6",
      "metadata": {
        "language": "python",
        "name": "cell26",
        "codeCollapsed": false
      },
      "outputs": [],
      "source": "feature_df.to_dynamic_table(\"RESTAURANT_REVIEWS_FEATURES_DYNAMIC_ICEBERG_TABLE\",index=None, lag = \"1minutes\", warehouse = \"ICEBERG_TUTORIAL_WH\",iceberg_config = iceberg_config, refresh_mode=\"incremental\")",
      "execution_count": null
    },
    {
      "cell_type": "markdown",
      "id": "e285a758-b9e2-4957-aae8-9faba6fb76ba",
      "metadata": {
        "name": "cell27",
        "collapsed": false
      },
      "source": "## Automatic Pipeline Refresh with Dynamic Iceberg Table\n\nNow, let's insert 10 new rows to our original iceberg table source. Changes to source table should automatically refreshes the dynamic iceberg table with our new features."
    },
    {
      "cell_type": "code",
      "id": "202fa50c-98c1-4954-b804-ecc2a4ae228e",
      "metadata": {
        "language": "sql",
        "name": "cell28"
      },
      "outputs": [],
      "source": "INSERT INTO RESTAURANT_REVIEWS_ICEBERG (REVIEW_ID, ORDER_ID, TRUCK_ID, LANGUAGE, SOURCE, REVIEW, PRIMARY_CITY, CUSTOMER_ID, DATE, TRUCK_BRAND_NAME) VALUES\n(81257, 367914035, 326, 'en', NULL, 'The \"Revenge of the Curds\" truck in Rio de Janeiro is a poutine paradise! The Classic, Mother''s Favorite, and The Kitchen Sink were all exceptional. Each dish was a unique blend of flavors, with the perfect balance of crispy fries, rich gravy, and squeaky cheese curds. The bottled water and soda were a refreshing complement to the meal. The truck''s staff was friendly and efficient, making the experience even better. If you''re a poutine lover, this is a must-visit!', 'Rio de Janeiro', NULL, '2024-06-01', 'Revenge of the Curds'),\n(81260, 367920093, 330, 'en', NULL, 'The Hot Ham & Cheese sandwich at Better Off Bread in Rio de Janeiro proved to be a disappointing culinary experience. The bread was distressingly limp and stale, the ham was overcooked and dry, and the cheese was not only scant but also lacking in flavor. The only saving grace was the generous helping of mayonnaise. Regrettably, the subpar quality of the ingredients negated any potential for a satisfying sandwich. It is, therefore, not a sandwich I would recommend to anyone.', 'Rio de Janeiro', NULL, '2024-06-01', 'Better Off Bread'),\n(4, 10869030, 59, 'en', NULL, ' The Combination Curry from Nani''s Kitchen was a disappointing experience. The curry lacked depth in flavor, tasting more like a watered-down version of what it should have been. The vegetables were overcooked and mushy, and the promised variety of ingredients was not evident. The portion size was also smaller than expected for the price. Overall, not the authentic Indian cuisine experience I was hoping for in Boston.', 'Boston', NULL, '2024-06-01', 'Nani''s Kitchen'),\n(114726, 435950617, 445, 'en', NULL, 'Disappointment was the main course at \"Not the Wurst Hot Dogs\". The Chicago Dogs, ordered twice in hopes of a better experience, were lackluster. The bun was soggy, the toppings were unbalanced, and the hot dog itself was bland. The overall taste was underwhelming, failing to deliver the authentic Chicago Dog experience. Cape Town deserves better hot dogs than this.', 'Cape Town', NULL, '2024-06-01', 'Not the Wurst Hot Dogs'),\n(27861, 63960366, 182, 'en', NULL, 'I am extremely disappointed with the fried pickles I ordered from Smoky BBQ in Warsaw. Not only were they woefully undersized, but the breading was limp and greasy, detracting from the overall flavor. The pickles themselves were bland and uninspiring. This is unacceptable for a truck touted as a BBQ specialist. I would not recommend this truck to anyone seeking a satisfying fried pickle experience.', 'Warsaw', NULL, '2024-06-01', 'Smoky BBQ'),\n(100062, 408472251, 394, 'en', NULL, 'The Lobster Mac & Cheese from The Mac Shack was a disappointing experience. The lobster was overcooked and tough, lacking the tender, succulent texture one expects. The cheese sauce was bland and lacked the rich, creamy consistency that makes mac & cheese a comfort food favorite. The Ice Tea was watered down and lackluster. For a food truck in Madrid, I expected more flavor and quality. Unfortunately, The Mac Shack did not deliver.', 'Madrid', NULL, '2024-06-01', 'The Mac Shack'),\n(91122, 392630366, 363, 'en', NULL, 'The Veggie Taco Bowl, Lean Burrito Bowl, and Two Taco Combo Plate from Guac n'' Roll were disappointing. The veggies were overcooked, lacking the fresh crunch expected in a taco bowl. The lean burrito bowl was bland, missing the flavorful kick that usually comes with Mexican cuisine. The tacos in the combo plate were small and underwhelming, not living up to the ''Guac n'' Roll'' name as the guacamole was scarce. Overall, not a satisfying experience from this Hamburg-based truck.', 'Hamburg', NULL, '2024-06-01', 'Guac n'' Roll'),\n(21764, 53568604, 162, 'en', NULL, 'The Cheeky Greek truck in Paris offered a satisfying meal with The King Combo and Greek Salad. The gyro meat was flavorful and tender, complemented well by the fresh vegetables and creamy tzatziki sauce. The Greek Salad was a refreshing side, with crisp lettuce, juicy tomatoes, and tangy feta cheese. The Ice Tea was a nice touch, cooling down the spicy notes of the combo. However, the pita bread could have been warmer and softer. Overall, it was a decent experience, but there''s still room for improvement in some aspects.', 'Paris', NULL, '2024-06-01', 'Cheeky Greek'),\n(104348, 417184811, 417, 'en', NULL, 'A Gyro Plate and Greek Salad combo was served from The Cheeky Greek truck in Barcelona. The flavorful gyro meat was appreciated, but the pita bread lacked moisture. The Greek salad was crisp and fresh, enhancing the meal''s enjoyment. A bottle of water was an appreciated refreshment on a warm day. The experience was mostly satisfactory, with potential for enhancement, specifically in the pita bread category.', 'Barcelona', NULL, '2024-06-01', 'Cheeky Greek'),\n(27865, 63972722, 194, 'en', NULL, 'Nani''s Kitchen delivered a satisfying Indian feast, exceeding my expectations. The lean chicken tikka masala was tender and flavorful, with the perfect balance of spices and creamy sauce. The combination curry offered a diverse range of textures and aromas, complementing the tikka masala perfectly. The portions were generous, and the service was prompt. Overall, I highly recommend Nani''s Kitchen for anyone seeking authentic Indian cuisine in Warsaw.', 'Warsaw', NULL, '2024-06-01', 'Nani''s Kitchen');\n",
      "execution_count": null
    },
    {
      "cell_type": "markdown",
      "id": "5559a0d1-b64f-4f69-b6f3-515317bc41db",
      "metadata": {
        "name": "cell29",
        "collapsed": false
      },
      "source": "After running the insert query, we can look at the dynamic iceberg table created `RESTAURANT_REVIEWS_FEATURES_DYNAMIC_ICEBERG` in the Snowsight Object Explorer and see the feature table has been automatically refreshed. With incremental refresh, only the inserted 10 rows needs to be updated, so we see that there was 10 rows changed. This is much cheaper and faster than trying to rerun the pipeline on the full table."
    },
    {
      "cell_type": "code",
      "id": "45ae934d-1cd3-46e8-9c14-0ef7dd738323",
      "metadata": {
        "language": "sql",
        "name": "cell30",
        "collapsed": false,
        "codeCollapsed": false
      },
      "outputs": [],
      "source": "SELECT * FROM RESTAURANT_REVIEWS_FEATURES_DYNAMIC_ICEBERG_TABLE WHERE REVIEW_ID IN (81257, 81260, 4, 114726, 27861, 100062, 91122, 21764, 104348, 27865)",
      "execution_count": null
    },
    {
      "cell_type": "markdown",
      "id": "3491854c-b66b-4d31-99a6-c007fb0bf33b",
      "metadata": {
        "name": "cell31",
        "collapsed": false
      },
      "source": "## Teardown "
    },
    {
      "cell_type": "code",
      "id": "3ee94c5b-032e-4000-abd1-33343374e999",
      "metadata": {
        "language": "sql",
        "name": "cell32"
      },
      "outputs": [],
      "source": "DELETE FROM RESTAURANT_REVIEWS_ICEBERG\nWHERE REVIEW_ID IN (\n    81257, 81260, 4, 114726, 27861, 100062, 91122, 21764, 104348, 27865\n);",
      "execution_count": null
    },
    {
      "cell_type": "code",
      "id": "e442c849-4da3-433b-a44b-213ecd71141a",
      "metadata": {
        "language": "sql",
        "name": "cell33",
        "codeCollapsed": false
      },
      "outputs": [],
      "source": "DROP TABLE IF EXISTS RESTAURANT_REVIEWS_FEATURES_ICEBERG;\nDROP TABLE IF EXISTS RESTAURANT_REVIEWS_FEATURES_DYNAMIC_ICEBERG_TABLE;",
      "execution_count": null
    }
  ]
}