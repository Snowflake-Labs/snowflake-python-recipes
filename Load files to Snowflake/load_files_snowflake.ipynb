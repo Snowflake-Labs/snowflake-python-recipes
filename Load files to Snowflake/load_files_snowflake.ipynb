{
  "metadata": {
    "kernelspec": {
      "display_name": "Streamlit Notebook",
      "name": "streamlit"
    },
    "lastEditStatus": {
      "notebookId": "hqjy2qpaiyqisuc27fpv",
      "authorId": "56160401252",
      "authorName": "DOLEE",
      "authorEmail": "doris.lee@snowflake.com",
      "sessionId": "38ea3a2e-4a4b-4c3e-a7a7-7e9587ca4c3d",
      "lastEditTime": 1741984801758
    }
  },
  "nbformat_minor": 5,
  "nbformat": 4,
  "cells": [
    {
      "cell_type": "markdown",
      "id": "0248af5e-a76b-43b2-ab9e-412747f313ee",
      "metadata": {
        "name": "cell1",
        "collapsed": false
      },
      "source": "# Load files to Snowflake\n\n\nIn this quickstart, we will show you how you can easily load your files to Snowflake programmatically using [pandas on Snowflake](https://docs.snowflake.com/developer-guide/snowpark/python/pandas-on-snowflake). To use pandas on Snowflake, you will need to add the `modin` package in the `Packages` dropdown.\n\n- To install Modin, select `modin` from `Packages`.\n"
    },
    {
      "cell_type": "code",
      "id": "3775908f-ca36-4846-8f38-5adca39217f2",
      "metadata": {
        "language": "python",
        "name": "cell2"
      },
      "source": "from snowflake.snowpark.context import get_active_session\nsession = get_active_session()",
      "execution_count": null,
      "outputs": []
    },
    {
      "cell_type": "code",
      "id": "db053e0e-9d8f-42a3-b12a-e4448ca25738",
      "metadata": {
        "language": "python",
        "name": "cell3"
      },
      "outputs": [],
      "source": "# Import the Snowpark pandas plugin for modin\nimport snowflake.snowpark.modin.plugin\nimport modin.pandas as pd",
      "execution_count": null
    },
    {
      "cell_type": "markdown",
      "id": "5ec387d0-1915-45d4-a4a0-e4133cceedcf",
      "metadata": {
        "name": "cell4",
        "collapsed": false
      },
      "source": "First, let's load in a CSV file. You can download the CSV file from [here](https://github.com/Snowflake-Labs/snowflake-python-recipes/blob/main/Load%20CSV%20to%20Snowflake/data.csv). If you are using Snowflake Notebooks, you can first upload the `data.csv` file by clicking on the `+` button on the left panel under `Files` to upload your file. If you are running this locally, make sure that `data.csv` file is located in the path accessible to where you are running the notebook from."
    },
    {
      "cell_type": "code",
      "id": "276c62fd-1e71-4229-a715-5741fa3273b6",
      "metadata": {
        "language": "python",
        "name": "cell5"
      },
      "outputs": [],
      "source": "# Load CSV from a local file\ndf = pd.read_csv(\"data.csv\")\ndf.head()",
      "execution_count": null
    },
    {
      "cell_type": "code",
      "id": "c695373e-ac74-4b62-a1f1-08206cbd5c81",
      "metadata": {
        "language": "python",
        "name": "cell6"
      },
      "source": "# Load CSV from a S3 bucket\ndf = pd.read_csv(\"s3://sfquickstarts/intro-to-machine-learning-with-snowpark-ml-for-python/diamonds.csv\")\n\n# Do something cool with pandas on Snowflake!\ndf.describe() ",
      "execution_count": null,
      "outputs": []
    },
    {
      "cell_type": "code",
      "id": "0ce30224-d93a-49e0-b523-21b2c6024d97",
      "metadata": {
        "language": "python",
        "name": "cell7"
      },
      "outputs": [],
      "source": "",
      "execution_count": null
    }
  ]
}