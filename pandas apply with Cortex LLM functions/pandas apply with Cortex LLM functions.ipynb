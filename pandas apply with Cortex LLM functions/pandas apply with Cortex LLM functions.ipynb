{
  "metadata": {
    "kernelspec": {
      "display_name": "Streamlit Notebook",
      "name": "streamlit"
    }
  },
  "nbformat_minor": 5,
  "nbformat": 4,
  "cells": [
    {
      "cell_type": "markdown",
      "id": "087ecc02-bbc7-488d-beae-796574cfed71",
      "metadata": {
        "name": "cell1",
        "collapsed": false
      },
      "source": "# Build AI-driven workflows using Snowflake Cortex LLM Functions with pandas on Snowflake"
    },
    {
      "cell_type": "markdown",
      "id": "a2023d59-d73a-442a-ac73-99ab145bf1b1",
      "metadata": {
        "name": "cell2",
        "collapsed": false
      },
      "source": "pandas on Snowflake provides developers with a familiar pandas interface to interact with Snowflake. With pandas on Snowflake, users can work with large amounts of data through Snowpark pandas DataFrames or Series. [Snowflake Cortex LLM functions](https://docs.snowflake.com/en/user-guide/snowflake-cortex/llm-functions) can now be leveraged with pandas on Snowflake via the pandas [apply](https://docs.snowflake.com/en/developer-guide/snowpark/reference/python/latest/modin/pandas_api/modin.pandas.DataFrame.apply) method. This allows users to instantly access and apply custom LLM-powered functions trained by the worlds leading researchers to batches of text or documents stored in Snowpark DataFrames or Series. The [pandas on Snowflake integration with Snowflake Cortex LLM function](https://docs.snowflake.com/en/developer-guide/snowpark/python/pandas-on-snowflake#using-snowflake-cortex-llm-functions-with-snowpark-pandas) expands the capabilities for developers to build AI-driven workflows with pandas on Snowflake.\n\nIn this example we can classify menu items from a DataFrame into smaller categories using the Snowflake Cortex [CLASSIFY_TEXT](https://docs.snowflake.com/en/sql-reference/functions/classify_text-snowflake-cortex) LLM function."
    },
    {
      "cell_type": "markdown",
      "id": "e0a89459-6d2e-4a33-8f7f-0ba3127468a2",
      "metadata": {
        "name": "cell3",
        "collapsed": false
      },
      "source": "## Adding Python Packages \ud83c\udf92\n\nSnowflake Notebooks comes pre-installed with common Python libraries. To add other packages, click on the `Packages` dropdown on the top right to add additional packages to your notebook.\n\nLet's add the following packages: \n- `modin` \n- `snowflake-ml-python`\n- `s3fs`"
    },
    {
      "cell_type": "code",
      "id": "3775908f-ca36-4846-8f38-5adca39217f2",
      "metadata": {
        "language": "python",
        "name": "cell4"
      },
      "source": "import streamlit as st\nimport modin.pandas as pd\nimport snowflake.snowpark.modin.plugin",
      "execution_count": null,
      "outputs": []
    },
    {
      "cell_type": "markdown",
      "id": "f0374405-b02f-4ddf-95e3-2b281c54480e",
      "metadata": {
        "name": "cell5",
        "collapsed": false
      },
      "source": "## Connecting to Snowflake \n\nTo work with your data in Snowflake, you need to first get a session variable to connect to Snowflake. Since you are already logged in to Snowflake Notebook, you can get your session variable directly through the active notebook session. The session variable is the entrypoint that gives you access to using Snowflake's Python API, including Snowpark."
    },
    {
      "cell_type": "code",
      "id": "3e55fa97-d8ac-49a2-8e0b-4c4e40a635b0",
      "metadata": {
        "language": "python",
        "name": "cell6",
        "collapsed": false,
        "codeCollapsed": false
      },
      "outputs": [],
      "source": "from snowflake.snowpark.context import get_active_session\nsession = get_active_session()",
      "execution_count": null
    },
    {
      "cell_type": "markdown",
      "id": "fd6e3bba-c22d-4fd4-81a0-a75fc60e98e3",
      "metadata": {
        "name": "cell7",
        "collapsed": false
      },
      "source": "## Bringing data into Snowflake\nYou can use pandas on Snowflake to load in [CSV](https://docs.snowflake.com/en/developer-guide/snowpark/reference/python/latest/modin/pandas_api/modin.pandas.read_csv#modin.pandas.read_csv), [Parquet](https://docs.snowflake.com/en/developer-guide/snowpark/reference/python/latest/modin/pandas_api/modin.pandas.read_parquet#modin.pandas.read_parquet), and [Excel](https://docs.snowflake.com/en/developer-guide/snowpark/reference/python/latest/modin/pandas_api/modin.pandas.read_excel#modin.pandas.read_excel) from stage or local file location. Here is the full list of [I/O functionalities supported](https://docs.snowflake.com/en/developer-guide/snowpark/reference/python/1.30.0/modin/io).\n\n\nFirst let's create a external stage and upload the CSV file. "
    },
    {
      "cell_type": "code",
      "id": "1973fc8a-c443-4b0f-a5fe-6aa3933511d9",
      "metadata": {
        "language": "sql",
        "name": "cell8",
        "codeCollapsed": false
      },
      "outputs": [],
      "source": "CREATE OR REPLACE STAGE FROSTBYTES\n    URL = 's3://sfquickstarts/frostbyte_tastybytes/';",
      "execution_count": null
    },
    {
      "cell_type": "code",
      "id": "bab997af-990b-4747-af20-a5477e79597a",
      "metadata": {
        "language": "python",
        "name": "cell9",
        "codeCollapsed": false
      },
      "outputs": [],
      "source": "menu_item = pd.read_csv(\"@frostbytes/analytics/menu_item_aggregate_v.csv\")",
      "execution_count": null
    },
    {
      "cell_type": "code",
      "id": "d3e574dc-bc9a-49d5-b585-535563692d38",
      "metadata": {
        "language": "python",
        "name": "cell10"
      },
      "outputs": [],
      "source": "menu_item.head()",
      "execution_count": null
    },
    {
      "cell_type": "markdown",
      "id": "2f33c330-431b-40d1-978b-d93d00670653",
      "metadata": {
        "name": "cell11",
        "collapsed": false
      },
      "source": "## Data Cleaning and Transformation\n\nNow let's clean up the data by filtering to only records in January 2023.\n"
    },
    {
      "cell_type": "code",
      "id": "9c946c47-1bc0-4103-9f9a-7dd23e21a2b9",
      "metadata": {
        "language": "python",
        "name": "cell12",
        "codeCollapsed": false
      },
      "outputs": [],
      "source": "menu_item[\"DATE\"] = pd.to_datetime(menu_item[\"DATE\"])\nfiltered_menu_item = menu_item[(menu_item[\"DATE\"]>'2023-01-01')&(menu_item[\"DATE\"]<'2023-02-01')]\nst.markdown(f'There are {len(menu_item)} rows in the full dataset. After filtering, there are {len(filtered_menu_item)} rows in this daterange.' )",
      "execution_count": null
    },
    {
      "cell_type": "code",
      "id": "195a19ed-7d84-43c7-b13a-2e953401ef0d",
      "metadata": {
        "language": "python",
        "name": "cell13",
        "codeCollapsed": false
      },
      "outputs": [],
      "source": "st.markdown(f'''There are {len(filtered_menu_item[\"MENU_ITEM_NAME\"].unique())} different menu items. \\n\nThat's a lot of different items! Let's see how we can group them into fewer categories.''')",
      "execution_count": null
    },
    {
      "cell_type": "markdown",
      "id": "2c0d8331-0735-4d23-9d81-e93b61378926",
      "metadata": {
        "name": "cell14",
        "collapsed": false
      },
      "source": "Next, to clean up the data further, we want to to classify menu items into a smaller number of categories. We can do that using Snowflake's Cortex LLM functions [CLASSIFY_TEXT](https://docs.snowflake.com/en/sql-reference/functions/classify_text-snowflake-cortex). You can use Snowflake Cortex LLM functions via the Snowpark pandas apply function, see examples [here](https://docs.snowflake.com/en/developer-guide/snowpark/python/pandas-on-snowflake#using-snowflake-cortex-llm-functions-with-snowpark-pandas)."
    },
    {
      "cell_type": "code",
      "id": "887c2a61-bb27-484e-9749-afb3eed65678",
      "metadata": {
        "language": "python",
        "name": "cell15",
        "codeCollapsed": false
      },
      "outputs": [],
      "source": "from snowflake.cortex import ClassifyText\nfiltered_menu_item[\"MENU_ITEM_CATEGORY\"] = filtered_menu_item[\"MENU_ITEM_NAME\"].apply(ClassifyText, categories=[\"Meal\",\"Dessert\",\"Drinks\"])",
      "execution_count": null
    },
    {
      "cell_type": "code",
      "id": "dfb43652-7ee8-4493-8e4d-3173f4000124",
      "metadata": {
        "language": "python",
        "name": "cell16",
        "codeCollapsed": false
      },
      "outputs": [],
      "source": "filtered_menu_item[\"MENU_ITEM_CATEGORY\"]",
      "execution_count": null
    },
    {
      "cell_type": "markdown",
      "id": "c3ec55ed-b988-4e7a-a609-54baa854b3e9",
      "metadata": {
        "name": "cell17",
        "collapsed": false
      },
      "source": "Now let's extract the `label` field from the dictionary in the column."
    },
    {
      "cell_type": "code",
      "id": "47857b2d-6444-48d3-b556-4ec91c00e043",
      "metadata": {
        "language": "python",
        "name": "cell18",
        "codeCollapsed": false
      },
      "outputs": [],
      "source": "filtered_menu_item[\"MENU_ITEM_LABEL\"] = filtered_menu_item[\"MENU_ITEM_CATEGORY\"].apply(lambda x: x.get('label'))",
      "execution_count": null
    },
    {
      "cell_type": "code",
      "id": "230dfa5c-0ba0-4416-a8ff-f736048a5621",
      "metadata": {
        "language": "python",
        "name": "cell19",
        "codeCollapsed": false
      },
      "outputs": [],
      "source": "filtered_menu_item[\"MENU_ITEM_LABEL\"]",
      "execution_count": null
    },
    {
      "cell_type": "markdown",
      "id": "d17876c8-39c8-4300-9c29-4e2ac3a120a3",
      "metadata": {
        "name": "cell20",
        "collapsed": false
      },
      "source": "For more examples of other Cortex functions you can use with pandas on Snowflake, visit our pandas on Snowflake [developer guide](https://docs.snowflake.com/en/developer-guide/snowpark/python/pandas-on-snowflake#using-snowflake-cortex-llm-functions-with-snowpark-pandas) and Snowflake Cortex [user guide](https://docs.snowflake.com/en/user-guide/snowflake-cortex/llm-functions) to learn more."
    }
  ]
}