{
  "metadata": {
    "kernelspec": {
      "display_name": "Streamlit Notebook",
      "name": "streamlit"
    }
  },
  "nbformat_minor": 5,
  "nbformat": 4,
  "cells": [
    {
      "cell_type": "markdown",
      "id": "3775908f-ca36-4846-8f38-5adca39217f2",
      "metadata": {
        "name": "cell1",
        "collapsed": false
      },
      "source": "# Reading from Snowflake Table\n\nIn this example, we will show you how you can connect to a Snowflake table and work with it in a DataFrame. \nSnowflake offers two different options for working with data in Snowflake tables: [pandas on Snowflake](https://docs.snowflake.com/en/developer-guide/snowpark/python/pandas-on-snowflake) and [Snowpark DataFrames](https://docs.snowflake.com/en/developer-guide/snowpark/python/working-with-dataframes).\n\nSnowpark DataFrames are modeled after PySpark, while Snowpark pandas is intended to extend the Snowpark DataFrame functionality and provide a familiar interface to pandas users to facilitate easy migration and adoption. We recommend using the different APIs depending on your use case and preference:\n- Use **pandas on Snowflake** if you prefer working with or have existing code written in **pandas**\n- Use **Snowpark DataFrames** if you prefer working with or have existing code written in **PySpark**"
    },
    {
      "cell_type": "code",
      "id": "8d50cbf4-0c8d-4950-86cb-114990437ac9",
      "metadata": {
        "language": "python",
        "name": "cell2"
      },
      "source": "# Set up Snowpark connection\nfrom snowflake.snowpark.context import get_active_session\nsession = get_active_session()",
      "execution_count": null,
      "outputs": []
    },
    {
      "cell_type": "markdown",
      "id": "43a161bd-5f8e-40cf-b4c3-6d4387810784",
      "metadata": {
        "name": "cell3",
        "collapsed": false
      },
      "source": "## Create a Snowflake Table\nFirst, let's create a Snowflake table with a few rows of example data. You can skip this step if you already have a table you want to work with:"
    },
    {
      "cell_type": "code",
      "id": "d271bd19-cd27-48c2-8b48-099ea2e9f822",
      "metadata": {
        "language": "sql",
        "name": "cell4"
      },
      "outputs": [],
      "source": "CREATE OR REPLACE TEMPORARY TABLE EXAMPLE_DATA AS\nSELECT\n  SEQ4() AS id,\n  UNIFORM(1, 100, RANDOM()) AS random_number,\n  CASE\n    SEQ4() % 5\n    WHEN 0 THEN 'Apple'\n    WHEN 1 THEN 'Banana'\n    WHEN 2 THEN 'Cherry'\n    WHEN 3 THEN 'Orange'\n    ELSE 'Grape'\n  END AS fruit_name\nFROM\n  TABLE(GENERATOR(ROWCOUNT => 100))\nORDER BY\n  id;",
      "execution_count": null
    },
    {
      "cell_type": "markdown",
      "id": "6ab475fa-a2f2-4263-8ed5-9d6fa97d8dec",
      "metadata": {
        "name": "cell5",
        "collapsed": false
      },
      "source": "## Using Snowpark DataFrame \nWith Snowpark DataFrames, here is an example of how you can read in a Snowflake table: "
    },
    {
      "cell_type": "code",
      "id": "c695373e-ac74-4b62-a1f1-08206cbd5c81",
      "metadata": {
        "language": "python",
        "name": "cell6",
        "codeCollapsed": false
      },
      "source": "df = session.table('EXAMPLE_DATA')",
      "execution_count": null,
      "outputs": []
    },
    {
      "cell_type": "markdown",
      "id": "cb3e22a3-1da9-4ab0-bcb9-433b2c7449c3",
      "metadata": {
        "name": "cell7",
        "collapsed": false
      },
      "source": "Once you have the dataframe, you can query and process the data using the [Snowpark DataFrame API](http://docs.snowflake.com/developer-guide/snowpark/reference/python/latest/snowpark/index)."
    },
    {
      "cell_type": "code",
      "id": "a99c4a18-a3b6-4c8d-b42e-4c089c28fe3c",
      "metadata": {
        "language": "python",
        "name": "cell8"
      },
      "outputs": [],
      "source": "df.groupBy('FRUIT_NAME').count()",
      "execution_count": null
    },
    {
      "cell_type": "markdown",
      "id": "594c0c55-7956-45f7-8a5a-ce9c9cf5d3c7",
      "metadata": {
        "name": "cell9",
        "collapsed": false
      },
      "source": "To learn more about Snowpark DataFrames, see [this developer guide](https://docs.snowflake.com/en/developer-guide/snowpark/python/working-with-dataframes) on Snowflake Documentation."
    },
    {
      "cell_type": "markdown",
      "id": "00ffae28-7bd2-41cd-8286-68838cfe82e3",
      "metadata": {
        "name": "cell10",
        "collapsed": false
      },
      "source": "## Using pandas on Snowflake\nTo use pandas on Snowflake, you need to add `modin` as one of the packages in the `Packages` dropdown on the top right corner of the notebook.\nThen you can import the Modin library with Snowpark pandas plugin:"
    },
    {
      "cell_type": "code",
      "id": "dd533134-6b7b-46d4-a3ae-06119548aa44",
      "metadata": {
        "language": "python",
        "name": "cell11",
        "codeCollapsed": false
      },
      "outputs": [],
      "source": "import modin.pandas as pd\nimport snowflake.snowpark.modin.plugin",
      "execution_count": null
    },
    {
      "cell_type": "markdown",
      "id": "764b1b7c-2504-41c8-bb5b-ac1b6326dbf6",
      "metadata": {
        "name": "cell12"
      },
      "source": "Here is an example of how you can read in a Snowflake table: "
    },
    {
      "cell_type": "code",
      "id": "6b1eed25-9415-473b-b362-0262070b729c",
      "metadata": {
        "language": "python",
        "name": "cell13",
        "codeCollapsed": false
      },
      "outputs": [],
      "source": "df = pd.read_snowflake(\"EXAMPLE_DATA\")",
      "execution_count": null
    },
    {
      "cell_type": "markdown",
      "id": "241e3a9d-9571-405b-935c-89b31f4be1c5",
      "metadata": {
        "name": "cell14",
        "collapsed": false
      },
      "source": "Once you have the dataframe, you can query and process the data using familiar pandas API and syntax. For the list of APIs supported in Snowpark pandas, see [here](https://docs.snowflake.com/en/developer-guide/snowpark/reference/python/latest/modin/supported/index) for more details."
    },
    {
      "cell_type": "code",
      "id": "ebf31d0b-4ba6-495f-82f0-ebc006fc569c",
      "metadata": {
        "language": "python",
        "name": "cell15",
        "codeCollapsed": false
      },
      "outputs": [],
      "source": "df[\"FRUIT_NAME\"].value_counts()",
      "execution_count": null
    },
    {
      "cell_type": "markdown",
      "id": "b626a550-89a1-4d8c-8e16-9a5ab3311017",
      "metadata": {
        "name": "cell16",
        "collapsed": false
      },
      "source": "To learn more about pandas on Snowflake, see [this developer guide](https://docs.snowflake.com/developer-guide/snowpark/python/pandas-on-snowflake) on Snowflake Documentation."
    }
  ]
}