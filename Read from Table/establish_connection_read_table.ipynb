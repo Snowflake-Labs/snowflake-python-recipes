{
 "metadata": {
  "kernelspec": {
   "display_name": "Streamlit Notebook",
   "name": "streamlit"
  },
  "lastEditStatus": {
   "notebookId": "nfd2z2mjwesepotdwaqa",
   "authorId": "7281864487759",
   "authorName": "SOSTROWSKI",
   "authorEmail": "savannah.ostrowski@snowflake.com",
   "sessionId": "f8b6f911-43dd-430d-93f3-e1c04e05b904",
   "lastEditTime": 1744998288017
  }
 },
 "nbformat_minor": 5,
 "nbformat": 4,
 "cells": [
  {
   "cell_type": "markdown",
   "id": "fdde93f3-682d-4a65-b6d0-ed7a09a294c9",
   "metadata": {
    "name": "cell4",
    "collapsed": false
   },
   "source": "## Create a connection and access your data\n\nUse Snowpark to establish a connection, read from the table and convert to a DataFrame"
  },
  {
   "cell_type": "code",
   "id": "3775908f-ca36-4846-8f38-5adca39217f2",
   "metadata": {
    "language": "python",
    "name": "cell1"
   },
   "source": "# We can also use Snowpark for our analyses!\nfrom snowflake.snowpark.context import get_active_session\nsession = get_active_session()",
   "execution_count": null,
   "outputs": []
  },
  {
   "cell_type": "code",
   "id": "32057e76-bfd8-4010-93e5-5e43e05a3376",
   "metadata": {
    "language": "python",
    "name": "cell5"
   },
   "outputs": [],
   "source": "# Grab your table and convert to a DataFrame\ndf = session.read.table('<your_table_name_here').to_pandas()\n\ndf.describe()",
   "execution_count": null
  }
 ]
}