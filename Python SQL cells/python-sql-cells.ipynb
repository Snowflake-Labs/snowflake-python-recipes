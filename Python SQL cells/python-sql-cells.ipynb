{
  "metadata": {
    "kernelspec": {
      "display_name": "Streamlit Notebook",
      "name": "streamlit"
    }
  },
  "nbformat_minor": 5,
  "nbformat": 4,
  "cells": [
    {
      "cell_type": "markdown",
      "id": "b95d1691-2be7-4bd0-b6aa-815d26850dec",
      "metadata": {
        "name": "cell1",
        "collapsed": false
      },
      "source": "# Python and SQL cells in Snowflake Notebooks\n\nOne of the things I love about Snowflake Notebooks is how clean and easy it is to weave together Python and SQL. Sometimes it is easier to express certain operations in Python using DataFrames, and other times you might have some existing SQL script that I might want to reuse and build off of. With Snowflake Notebooks, you can do both \u2014 by using Python and SQL language cells to develop and run my code all in one place.\n\nLet's take a look at a quick example below."
    },
    {
      "cell_type": "code",
      "id": "3775908f-ca36-4846-8f38-5adca39217f2",
      "metadata": {
        "language": "python",
        "name": "cell2",
        "codeCollapsed": false
      },
      "source": "# Create session\nfrom snowflake.snowpark.context import get_active_session\nsession = get_active_session()",
      "execution_count": null,
      "outputs": []
    },
    {
      "cell_type": "markdown",
      "id": "010c4f0a-4fec-485f-a67c-8d1024734cfb",
      "metadata": {
        "name": "cell3",
        "collapsed": false
      },
      "source": "Typically in a regular Python IDE, if you want to do anything SQL related, you would need to wrap the SQL query up in `session.sql` to run this SQL within my Python workflow. As you can see, this is not very clean from a code maintenance perspective \u2014 the stringified SQL is hard to read without code coloring, my notebook is now sprinkled with `session.sql` all over if I keep following this pattern."
    },
    {
      "cell_type": "code",
      "id": "7cee0f36-5818-4b22-a273-67eb8bdf0d0f",
      "metadata": {
        "language": "python",
        "name": "cell4",
        "codeCollapsed": false
      },
      "outputs": [],
      "source": "session.sql('''\nCREATE OR REPLACE TABLE BOOK_CATALOG AS \nSELECT DATEADD(DAY, - UNIFORM (0, 180, RANDOM ()), CURRENT_DATE) AS TRANSACTION_DATE,\n       CONCAT ('978',LPAD (ABS(UNIFORM (1000000000, 9999999999, RANDOM ())),10,'0')) AS ISBN, \n       ABS(10-NORMAL(5, 2, RANDOM())) AS RATING, \n       ABS(NORMAL(25, 30::FLOAT, RANDOM())) AS PRICE,\nFROM TABLE(GENERATOR(ROWCOUNT => 100));\n''')",
      "execution_count": null
    },
    {
      "cell_type": "markdown",
      "id": "ca3d2db2-1241-421e-8080-ea98fc16d58d",
      "metadata": {
        "name": "cell5",
        "collapsed": false
      },
      "source": "In Snowflake Notebook, you can create SQL cells by clicking on the `+ SQL` button at the bottom of each cell, or change the language of your cell to `SQL` on the top left dropdown."
    },
    {
      "cell_type": "code",
      "id": "8d50cbf4-0c8d-4950-86cb-114990437ac9",
      "metadata": {
        "language": "sql",
        "name": "cell6",
        "codeCollapsed": false
      },
      "source": "-- SQL query for generating synthetic dataset\nCREATE OR REPLACE TABLE BOOK_CATALOG AS \nSELECT DATEADD(DAY, - UNIFORM (0, 180, RANDOM ()), CURRENT_DATE) AS TRANSACTION_DATE,\n       CONCAT ('978',LPAD (ABS(UNIFORM (1000000000, 9999999999, RANDOM ())),10,'0')) AS ISBN, \n       ABS(10-NORMAL(5, 2, RANDOM())) AS RATING, \n       ABS(NORMAL(25, 30::FLOAT, RANDOM())) AS PRICE,\nFROM TABLE(GENERATOR(ROWCOUNT => 100));",
      "execution_count": null,
      "outputs": []
    },
    {
      "cell_type": "markdown",
      "id": "fc7c57e5-0304-46da-b443-ad9f013751d9",
      "metadata": {
        "name": "cell7",
        "collapsed": false
      },
      "source": "Now I can use Python to access this table as a dataframe and print it out."
    },
    {
      "cell_type": "code",
      "id": "c695373e-ac74-4b62-a1f1-08206cbd5c81",
      "metadata": {
        "language": "python",
        "name": "cell8",
        "codeCollapsed": false
      },
      "source": "# Start working with my Snowflake table in Python\ndf = session.table(\"BOOK_CATALOG\")\ndf",
      "execution_count": null,
      "outputs": []
    }
  ]
}